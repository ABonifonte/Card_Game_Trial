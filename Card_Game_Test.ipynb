#Hello world!

######
#Enter your values here:
num_cards = 52 #Number of cards

#Hello world!

######
#Enter your values here:
num_cards = 52 #Number of cards


########
#Do not change here
your_answer = num_cards +8
your_answer
